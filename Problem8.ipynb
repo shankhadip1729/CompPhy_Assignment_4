{
 "cells": [
  {
   "cell_type": "code",
   "execution_count": 1,
   "id": "274774d8",
   "metadata": {},
   "outputs": [
    {
     "data": {
      "text/plain": [
       "3.143244"
      ]
     },
     "execution_count": 1,
     "metadata": {},
     "output_type": "execute_result"
    }
   ],
   "source": [
    "import numpy as np\n",
    "\n",
    "def monte_carlo_circle_area(n_samples):\n",
    "    count_inside_circle = 0\n",
    "    \n",
    "    for _ in range(n_samples):\n",
    "        x, y = np.random.uniform(-1, 1, 2)\n",
    "        if x**2 + y**2 <= 1:\n",
    "            count_inside_circle += 1\n",
    "    \n",
    "    area_estimate = (count_inside_circle / n_samples) * 4\n",
    "    return area_estimate\n",
    "\n",
    "n_samples = 1000000\n",
    "area_estimate = monte_carlo_circle_area(n_samples)\n",
    "area_estimate\n"
   ]
  },
  {
   "cell_type": "code",
   "execution_count": 10,
   "id": "4bedd7ff",
   "metadata": {},
   "outputs": [
    {
     "data": {
      "text/plain": [
       "2.545664"
      ]
     },
     "execution_count": 10,
     "metadata": {},
     "output_type": "execute_result"
    }
   ],
   "source": [
    "def monte_carlo_sphere_volume(n_samples, dimensions):\n",
    "    count_inside_sphere = 0\n",
    "    \n",
    "    for _ in range(n_samples):\n",
    "        point = np.random.uniform(-1, 1, dimensions)\n",
    "        if np.sum(point**2) <= 1:\n",
    "            count_inside_sphere += 1\n",
    "    \n",
    "    volume_estimate = (count_inside_sphere / n_samples) * (2**dimensions)\n",
    "    return volume_estimate\n",
    "\n",
    "n_samples = 1000000\n",
    "dimensions = 10\n",
    "volume_estimate = monte_carlo_sphere_volume(n_samples, dimensions)\n",
    "volume_estimate\n"
   ]
  },
  {
   "cell_type": "code",
   "execution_count": null,
   "id": "3fab82d0",
   "metadata": {},
   "outputs": [],
   "source": []
  }
 ],
 "metadata": {
  "kernelspec": {
   "display_name": "Python 3 (ipykernel)",
   "language": "python",
   "name": "python3"
  },
  "language_info": {
   "codemirror_mode": {
    "name": "ipython",
    "version": 3
   },
   "file_extension": ".py",
   "mimetype": "text/x-python",
   "name": "python",
   "nbconvert_exporter": "python",
   "pygments_lexer": "ipython3",
   "version": "3.11.5"
  }
 },
 "nbformat": 4,
 "nbformat_minor": 5
}
