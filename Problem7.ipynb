{
 "cells": [
  {
   "cell_type": "code",
   "execution_count": 2,
   "id": "f730d2f9",
   "metadata": {},
   "outputs": [
    {
     "data": {
      "text/plain": [
       "(29.491666666666667,\n",
       " 0.0010368888967215995,\n",
       " 1.1416666666666666,\n",
       " 0.999685063315782)"
      ]
     },
     "execution_count": 2,
     "metadata": {},
     "output_type": "execute_result"
    }
   ],
   "source": [
    "import numpy as np\n",
    "from scipy.stats import chi2\n",
    "\n",
    "observed_counts1 = np.array([4, 10, 10, 13, 20, 18, 18, 11, 13, 14,13])\n",
    "observed_counts2 = np.array([3, 7, 11, 15, 19, 24, 21, 17, 13, 9, 5])\n",
    "\n",
    "N1 = np.sum(observed_counts1)\n",
    "N2 = np.sum(observed_counts2)\n",
    "\n",
    "probabilities = np.array([1, 2, 3, 4, 5, 6, 5, 4, 3, 2, 1]) / 36\n",
    "\n",
    "expected_counts1 = N1 * probabilities\n",
    "expected_counts2 = N2 * probabilities\n",
    "\n",
    "chi_square_stat1 = np.sum((observed_counts1 - expected_counts1)**2 / expected_counts1)\n",
    "chi_square_stat2 = np.sum((observed_counts2 - expected_counts2)**2 / expected_counts2)\n",
    "\n",
    "df = len(probabilities) - 1\n",
    "\n",
    "p_value1 = 1 - chi2.cdf(chi_square_stat1, df)\n",
    "p_value2 = 1 - chi2.cdf(chi_square_stat2, df)\n",
    "\n",
    "chi_square_stat1, p_value1, chi_square_stat2, p_value2\n"
   ]
  },
  {
   "cell_type": "code",
   "execution_count": null,
   "id": "3fa446f3",
   "metadata": {},
   "outputs": [],
   "source": []
  }
 ],
 "metadata": {
  "kernelspec": {
   "display_name": "Python 3 (ipykernel)",
   "language": "python",
   "name": "python3"
  },
  "language_info": {
   "codemirror_mode": {
    "name": "ipython",
    "version": 3
   },
   "file_extension": ".py",
   "mimetype": "text/x-python",
   "name": "python",
   "nbconvert_exporter": "python",
   "pygments_lexer": "ipython3",
   "version": "3.11.5"
  }
 },
 "nbformat": 4,
 "nbformat_minor": 5
}
